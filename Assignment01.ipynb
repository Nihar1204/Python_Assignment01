{
 "cells": [
  {
   "cell_type": "code",
   "execution_count": 1,
   "id": "11bdd2b0-2f11-43ef-8d10-244c5cacf193",
   "metadata": {},
   "outputs": [],
   "source": [
    "#String\n",
    "str1='Nihar'\n",
    "\n",
    "#List\n",
    "list1=[1,\"Nihar\",1.2]\n",
    "\n",
    "#Float\n",
    "f1=1.2\n",
    "\n",
    "#Tuple\n",
    "tup1=(1,\"Nihar\",1.2)"
   ]
  },
  {
   "cell_type": "code",
   "execution_count": 2,
   "id": "8bc81996-0a46-48e9-9a65-dc99d2d928d0",
   "metadata": {},
   "outputs": [],
   "source": [
    "#Datatype of var1 is str\n",
    "#Datatype of var2 is str\n",
    "#Datatype of var3 is list\n",
    "#Datatype of var4 is int"
   ]
  },
  {
   "cell_type": "code",
   "execution_count": 4,
   "id": "84fe2d2f-d618-4ac2-bcdb-7cfb5adfa088",
   "metadata": {},
   "outputs": [
    {
     "name": "stdout",
     "output_type": "stream",
     "text": [
      "2.0\n",
      "2.0\n",
      "2\n",
      "16\n"
     ]
    }
   ],
   "source": [
    "# By using slash(/) operator we get the quotient of two numbers\n",
    "a=10\n",
    "b=5\n",
    "quotient=a/b\n",
    "print(quotient)\n",
    "\n",
    "# By using modulus(%) operator we get the remainder of two numbers\n",
    "c=10\n",
    "d=5\n",
    "r=c/d\n",
    "print(r)\n",
    "\n",
    "# By using double slash(//) operator we get the division floor of two numbers\n",
    "e=12\n",
    "f=5\n",
    "df = e//f\n",
    "print(df)\n",
    "\n",
    "# By using double star(**) operator we get the power of two numbers\n",
    "g=4\n",
    "h=2\n",
    "p=g**2\n",
    "print(p)"
   ]
  },
  {
   "cell_type": "code",
   "execution_count": 5,
   "id": "c3359e43-1d6d-46c1-92f5-c136a8e96da4",
   "metadata": {},
   "outputs": [
    {
     "name": "stdout",
     "output_type": "stream",
     "text": [
      "1\n",
      "<class 'int'>\n",
      "2\n",
      "<class 'int'>\n",
      "Nihar\n",
      "<class 'str'>\n",
      "(1+2j)\n",
      "<class 'complex'>\n",
      "1.2\n",
      "<class 'float'>\n",
      "Ranjan\n",
      "<class 'str'>\n",
      "7\n",
      "<class 'int'>\n",
      "8.1\n",
      "<class 'float'>\n",
      "9\n",
      "<class 'int'>\n",
      "10.1\n",
      "<class 'float'>\n"
     ]
    }
   ],
   "source": [
    "l1=[1,2,\"Nihar\",1+2j,1.2,\"Ranjan\",7,8.1,9,10.1]\n",
    "for i in l1:\n",
    "    print(i)\n",
    "    print(type(i))"
   ]
  },
  {
   "cell_type": "code",
   "execution_count": 6,
   "id": "4c69c33d-bbc7-4604-82ee-8aa85dc55d9d",
   "metadata": {},
   "outputs": [
    {
     "name": "stdin",
     "output_type": "stream",
     "text": [
      " 100\n",
      " 2\n"
     ]
    },
    {
     "name": "stdout",
     "output_type": "stream",
     "text": [
      "100 purely divided by 2 and it can be divisible upto 2 times\n"
     ]
    }
   ],
   "source": [
    "A=int(input())\n",
    "a=A\n",
    "B=int(input())\n",
    "c=0\n",
    "while A % B == 0:\n",
    "    c +=1\n",
    "    A /= B\n",
    "    \n",
    "if c>0:\n",
    "    print(f\"{a} purely divided by {B} and it can be divisible upto {c} times\")\n",
    "    \n",
    "else:\n",
    "    print(f\"{a} cannot be divided by {B}\")"
   ]
  },
  {
   "cell_type": "code",
   "execution_count": 7,
   "id": "c7ebc2ad-4ab2-414f-9fa8-e98dec297954",
   "metadata": {},
   "outputs": [
    {
     "name": "stdout",
     "output_type": "stream",
     "text": [
      "1 is not divisible by 3\n",
      "2 is not divisible by 3\n",
      "3 is divisible by 3\n",
      "4 is not divisible by 3\n",
      "5 is not divisible by 3\n",
      "6 is divisible by 3\n",
      "7 is not divisible by 3\n",
      "8 is not divisible by 3\n",
      "9 is divisible by 3\n",
      "10 is not divisible by 3\n",
      "11 is not divisible by 3\n",
      "12 is divisible by 3\n",
      "13 is not divisible by 3\n",
      "14 is not divisible by 3\n",
      "15 is divisible by 3\n",
      "16 is not divisible by 3\n",
      "17 is not divisible by 3\n",
      "18 is divisible by 3\n",
      "19 is not divisible by 3\n",
      "20 is not divisible by 3\n",
      "21 is divisible by 3\n",
      "22 is not divisible by 3\n",
      "23 is not divisible by 3\n",
      "24 is divisible by 3\n",
      "25 is not divisible by 3\n"
     ]
    }
   ],
   "source": [
    "L = [1,2,3,4,5,6,7,8,9,10,11,12,13,14,15,16,17,18,19,20,21,22,23,24,25]\n",
    "for i in L:\n",
    "    if i % 3 == 0:\n",
    "        print(f\"{i} is divisible by 3\")\n",
    "    else:\n",
    "        print(f\"{i} is not divisible by 3\")"
   ]
  },
  {
   "cell_type": "code",
   "execution_count": 8,
   "id": "6e486ba6-8a45-4f80-8972-99ba5a5f4e47",
   "metadata": {},
   "outputs": [
    {
     "name": "stdout",
     "output_type": "stream",
     "text": [
      "[0, 2, 3, 4]\n",
      "hello world\n"
     ]
    }
   ],
   "source": [
    "# In mutable datatypes we can change or mpdify a particular variable with same reference address\n",
    "\n",
    "my_list = [1, 2, 3]\n",
    "my_list.append(4)    # This adds a new element to the existing list\n",
    "my_list[0] = 0       # This modifies an element of the existing list\n",
    "print(my_list)       # Output: [0, 2, 3, 4]\n",
    "\n",
    "# In imutable datatypes we cannot change or modify the object\n",
    "\n",
    "s = \"hello\"\n",
    "s += \" world\"   # This creates a new string object with value \"hello world\", but does not modify the original object\n",
    "print(s)        # Output: \"hello world\""
   ]
  },
  {
   "cell_type": "code",
   "execution_count": 9,
   "id": "07eab1cf-0ed3-4417-96be-a350c8397778",
   "metadata": {},
   "outputs": [
    {
     "name": "stdout",
     "output_type": "stream",
     "text": [
      "[0, 2, 3, 4]\n",
      "hello world\n"
     ]
    }
   ],
   "source": [
    "# In mutable datatypes we can change or mpdify a particular variable with same reference address\n",
    "\n",
    "my_list = [1, 2, 3]\n",
    "my_list.append(4)    # This adds a new element to the existing list\n",
    "my_list[0] = 0       # This modifies an element of the existing list\n",
    "print(my_list)       # Output: [0, 2, 3, 4]\n",
    "\n",
    "# In imutable datatypes we cannot change or modify the object\n",
    "\n",
    "s = \"hello\"\n",
    "s += \" world\"   # This creates a new string object with value \"hello world\", but does not modify the original object\n",
    "print(s)        # Output: \"hello world\""
   ]
  },
  {
   "cell_type": "code",
   "execution_count": null,
   "id": "243a1b9a-2b03-481d-bbc8-8c6aa9f0d0f7",
   "metadata": {},
   "outputs": [],
   "source": []
  }
 ],
 "metadata": {
  "kernelspec": {
   "display_name": "Python 3 (ipykernel)",
   "language": "python",
   "name": "python3"
  },
  "language_info": {
   "codemirror_mode": {
    "name": "ipython",
    "version": 3
   },
   "file_extension": ".py",
   "mimetype": "text/x-python",
   "name": "python",
   "nbconvert_exporter": "python",
   "pygments_lexer": "ipython3",
   "version": "3.10.8"
  }
 },
 "nbformat": 4,
 "nbformat_minor": 5
}
